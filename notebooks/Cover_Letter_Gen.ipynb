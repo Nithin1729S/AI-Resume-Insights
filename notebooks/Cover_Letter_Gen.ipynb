{
  "nbformat": 4,
  "nbformat_minor": 0,
  "metadata": {
    "colab": {
      "provenance": []
    },
    "kernelspec": {
      "name": "python3",
      "display_name": "Python 3"
    },
    "language_info": {
      "name": "python"
    }
  },
  "cells": [
    {
      "cell_type": "code",
      "execution_count": 5,
      "metadata": {
        "colab": {
          "base_uri": "https://localhost:8080/",
          "height": 454
        },
        "id": "QK4z5-OY3grH",
        "outputId": "1d7997c5-6439-49f1-d58a-2c1b1346bdcb"
      },
      "outputs": [
        {
          "output_type": "stream",
          "name": "stdout",
          "text": [
            "You can get a free Google API key from: https://makersuite.google.com/app/apikey\n",
            "\n",
            "Cover letter has been generated and saved to 'cover_letter.txt'\n",
            "\n",
            "Generated Cover Letter:\n",
            "--------------------------------------------------\n",
            "Dear [Hiring Manager name],\n",
            "\n",
            "I am writing to express my keen interest in the Software Engineer position at your esteemed organization. My ardent pursuit of innovation, combined with my proven proficiency in the latest technologies, makes me an ideal candidate for this role.\n",
            "\n",
            "Throughout my academic journey, I have maintained an exceptional academic record, culminating in a 9.58 CGPA in Information Technology and a Minor in Machine Learning from the National Institute of Technology Karnataka, Surathkal. My coursework has equipped me with a solid foundation in data structures, algorithms, database management, and web technologies.\n",
            "\n",
            "My internships have further refined my technical expertise. As a Research Intern at the Healthcare Analytics & Language Engineering Lab, I leveraged BioClinicalBERT and BioMedCLIP to develop an NLP model for interpreting chest X-ray images. My work resulted in a BLEU-3 score of 0.298 and an average BERT score of 0.87, demonstrating my proficiency in deep learning and natural language processing.\n",
            "\n",
            "My passion for software development is evident in my personal projects. I designed and developed an Image Style Transfer web application using AesPA-Net, allowing users to transform their images with artistic flair. Additionally, I built a Web3 Vault DApp, a decentralized password manager secured by blockchain technology.\n",
            "\n",
            "Beyond my technical skills, I am an enthusiastic team player with leadership experience. As an Executive Member of the Indian Society for Technical Education, NITK Chapter, I mentored over 50 students and actively participated in projects.\n",
            "\n",
            "My exceptional problem-solving abilities, honed through solving 700+ problems on Leetcode and Codeforces, coupled with my deep understanding of the latest technologies, make me a valuable asset to your team. I am eager to leverage my skills to contribute to your organization's success.\n",
            "\n",
            "Thank you for considering my application. I am confident that I possess the necessary expertise and enthusiasm to excel as a Software Engineer at your esteemed organization.\n",
            "\n",
            "Sincerely,\n",
            "Nithin S\n"
          ]
        }
      ],
      "source": [
        "import os\n",
        "import PyPDF2\n",
        "import google.generativeai as genai\n",
        "import re\n",
        "\n",
        "def extract_text_from_pdf(pdf_path):\n",
        "    \"\"\"Extract text content from a PDF file.\"\"\"\n",
        "    text = \"\"\n",
        "    try:\n",
        "        with open(pdf_path, 'rb') as file:\n",
        "            pdf_reader = PyPDF2.PdfReader(file)\n",
        "            for page in pdf_reader.pages:\n",
        "                text += page.extract_text()\n",
        "        return text\n",
        "    except Exception as e:\n",
        "        print(f\"Error reading PDF: {e}\")\n",
        "        return None\n",
        "\n",
        "def extract_name(resume_text):\n",
        "    \"\"\"Extract name from resume using simple pattern matching.\"\"\"\n",
        "    lines = resume_text.split('\\n')\n",
        "    # Usually the name is in the first few lines\n",
        "    for line in lines[:5]:\n",
        "        # Remove extra spaces and special characters\n",
        "        line = re.sub(r'[^\\w\\s]', '', line).strip()\n",
        "        # Look for a line with 2-3 words, typical for names\n",
        "        words = line.split()\n",
        "        if 2 <= len(words) <= 3 and all(word.istitle() for word in words):\n",
        "            return ' '.join(words)\n",
        "    return \"Candidate\"  # Default if name not found\n",
        "\n",
        "def generate_cover_letter(resume_text, api_key):\n",
        "    \"\"\"Generate a cover letter using Google's Gemini model.\"\"\"\n",
        "    genai.configure(api_key=api_key)\n",
        "    model = genai.GenerativeModel('gemini-pro')\n",
        "\n",
        "    name = extract_name(resume_text)\n",
        "\n",
        "    prompt = f\"\"\"Based on the following resume, write a professional cover letter.\n",
        "    Make it engaging and highlight the key skills and experiences mentioned in the resume.\n",
        "    The candidate's name is: {name}\n",
        "\n",
        "    Resume content:\n",
        "    {resume_text}\n",
        "\n",
        "    Write a formal cover letter that's genuine and showcases the candidate's relevant experience and enthusiasm.\n",
        "    \"\"\"\n",
        "\n",
        "    try:\n",
        "        response = model.generate_content(prompt)\n",
        "        return response.text\n",
        "    except Exception as e:\n",
        "        return f\"Error generating cover letter: {e}\"\n",
        "\n",
        "def main():\n",
        "    # Get Google API key\n",
        "    api_key = os.getenv('GOOGLE_API_KEY')\n",
        "    if not api_key:\n",
        "        print(\"You can get a free Google API key from: https://makersuite.google.com/app/apikey\")\n",
        "        api_key = 'your_google_api_key'\n",
        "\n",
        "    # Get PDF path\n",
        "    pdf_path = '/content/NithinS-Resume.pdf'\n",
        "\n",
        "    # Extract text from PDF\n",
        "    resume_text = extract_text_from_pdf(pdf_path)\n",
        "    if not resume_text:\n",
        "        print(\"Failed to extract text from PDF\")\n",
        "        return\n",
        "\n",
        "    # Generate cover letter\n",
        "    cover_letter = generate_cover_letter(resume_text, api_key)\n",
        "\n",
        "    # Save cover letter to file\n",
        "    with open('cover_letter.txt', 'w') as f:\n",
        "        f.write(cover_letter)\n",
        "\n",
        "    print(\"\\nCover letter has been generated and saved to 'cover_letter.txt'\")\n",
        "    print(\"\\nGenerated Cover Letter:\")\n",
        "    print(\"-\" * 50)\n",
        "    print(cover_letter)\n",
        "\n",
        "if __name__ == \"__main__\":\n",
        "    main()"
      ]
    },
    {
      "cell_type": "code",
      "source": [],
      "metadata": {
        "id": "B37QQZkN3z5n"
      },
      "execution_count": null,
      "outputs": []
    }
  ]
}