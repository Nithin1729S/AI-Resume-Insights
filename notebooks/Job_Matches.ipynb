{
  "nbformat": 4,
  "nbformat_minor": 0,
  "metadata": {
    "colab": {
      "provenance": []
    },
    "kernelspec": {
      "name": "python3",
      "display_name": "Python 3"
    },
    "language_info": {
      "name": "python"
    }
  },
  "cells": [
    {
      "cell_type": "code",
      "execution_count": 2,
      "metadata": {
        "colab": {
          "base_uri": "https://localhost:8080/",
          "height": 625
        },
        "id": "0wtLTdAKa7bD",
        "outputId": "756da378-8c8d-4a87-e87f-7c22fbd0f5fc"
      },
      "outputs": [
        {
          "output_type": "stream",
          "name": "stdout",
          "text": [
            "Collecting PyPDF2\n",
            "  Downloading pypdf2-3.0.1-py3-none-any.whl.metadata (6.8 kB)\n",
            "Downloading pypdf2-3.0.1-py3-none-any.whl (232 kB)\n",
            "\u001b[?25l   \u001b[90m━━━━━━━━━━━━━━━━━━━━━━━━━━━━━━━━━━━━━━━━\u001b[0m \u001b[32m0.0/232.6 kB\u001b[0m \u001b[31m?\u001b[0m eta \u001b[36m-:--:--\u001b[0m\r\u001b[2K   \u001b[90m━━━━━━━━━━━━━━━━━━━━━━━━━━━━━━━━━━━━━━━━\u001b[0m \u001b[32m232.6/232.6 kB\u001b[0m \u001b[31m13.4 MB/s\u001b[0m eta \u001b[36m0:00:00\u001b[0m\n",
            "\u001b[?25hInstalling collected packages: PyPDF2\n",
            "Successfully installed PyPDF2-3.0.1\n",
            "\n",
            "Job matches analysis has been generated and saved to 'job_matches.txt'\n",
            "\n",
            "Job Matches Analysis:\n",
            "--------------------------------------------------\n",
            "1. **Software Engineer** - 90%\n",
            "   - Strong programming skills in C/C++, Python, Java, and JavaScript\n",
            "   - Experience in web development using ReactJS, NodeJS, and ExpressJS\n",
            "   - Familiarity with Docker, MongoDB, and other developer tools\n",
            "\n",
            "2. **Data Scientist** - 80%\n",
            "   - Foundation in data science and machine learning concepts\n",
            "   - Experience with NLP and transformer models\n",
            "   - Skills in Python and Streamlit for data modeling and visualization\n",
            "\n",
            "3. **Blockchain Developer** - 75%\n",
            "   - Proficiency in Solidity and smart contract development\n",
            "   - Experience building decentralized applications on Ethereum\n",
            "   - Understanding of ReactJS and frontend development\n",
            "\n",
            "4. **Full Stack Developer** - 70%\n",
            "   - Expertise in both frontend and backend technologies\n",
            "   - Experience with Python, Django, and PostgreSQL\n",
            "   - Familiarity with REST APIs and Stripe integration\n",
            "\n",
            "5. **Machine Learning Engineer** - 65%\n",
            "   - Understanding of machine learning algorithms and Python libraries\n",
            "   - Experience with PyTorch and CNNs for image processing\n",
            "   - Ability to work with cloud platforms like Cloudinary and Firebase\n"
          ]
        }
      ],
      "source": [
        "import os\n",
        "!pip install PyPDF2\n",
        "import PyPDF2\n",
        "import google.generativeai as genai\n",
        "\n",
        "def extract_text_from_pdf(pdf_path):\n",
        "    \"\"\"Extract text content from a PDF file.\"\"\"\n",
        "    text = \"\"\n",
        "    try:\n",
        "        with open(pdf_path, 'rb') as file:\n",
        "            pdf_reader = PyPDF2.PdfReader(file)\n",
        "            for page in pdf_reader.pages:\n",
        "                text += page.extract_text()\n",
        "        return text\n",
        "    except Exception as e:\n",
        "        print(f\"Error reading PDF: {e}\")\n",
        "        return None\n",
        "\n",
        "def analyze_resume_for_jobs(resume_text, api_key):\n",
        "    \"\"\"Analyze resume and suggest matching jobs with confidence scores.\"\"\"\n",
        "    genai.configure(api_key=api_key)\n",
        "    model = genai.GenerativeModel('gemini-pro')\n",
        "\n",
        "    prompt = f\"\"\"Based on the following resume, identify the top 5 most suitable job roles.\n",
        "    For each role, provide a matching percentage (0-100) based on how well the candidate's\n",
        "    skills and experience align with typical requirements for that position.\n",
        "    Format your response as:\n",
        "    1. [Job Title] - [Match Percentage]%\n",
        "    [Brief explanation of match based on specific resume elements]\n",
        "\n",
        "    Resume content:\n",
        "    {resume_text}\n",
        "\n",
        "    Consider technical skills, experience level, industry background, and educational qualifications\n",
        "    when determining matches and percentages.\n",
        "    \"\"\"\n",
        "\n",
        "    try:\n",
        "        response = model.generate_content(prompt)\n",
        "        return response.text\n",
        "    except Exception as e:\n",
        "        return f\"Error analyzing resume: {e}\"\n",
        "\n",
        "def main():\n",
        "    # Get Google API key\n",
        "    api_key = 'your_api_key'\n",
        "    if not api_key:\n",
        "        print(\"You can get a free Google API key from: https://makersuite.google.com/app/apikey\")\n",
        "        api_key = 'your_google_api_key'\n",
        "\n",
        "    # Get PDF path\n",
        "    pdf_path = '/content/NithinS-Resume.pdf'\n",
        "\n",
        "    # Extract text from PDF\n",
        "    resume_text = extract_text_from_pdf(pdf_path)\n",
        "    if not resume_text:\n",
        "        print(\"Failed to extract text from PDF\")\n",
        "        return\n",
        "\n",
        "    # Analyze resume and get job matches\n",
        "    job_matches = analyze_resume_for_jobs(resume_text, api_key)\n",
        "\n",
        "    # Save analysis to file\n",
        "    with open('job_matches.txt', 'w') as f:\n",
        "        f.write(job_matches)\n",
        "\n",
        "    print(\"\\nJob matches analysis has been generated and saved to 'job_matches.txt'\")\n",
        "    print(\"\\nJob Matches Analysis:\")\n",
        "    print(\"-\" * 50)\n",
        "    print(job_matches)\n",
        "\n",
        "if __name__ == \"__main__\":\n",
        "    main()"
      ]
    },
    {
      "cell_type": "code",
      "source": [],
      "metadata": {
        "id": "9NazWBcob9xs"
      },
      "execution_count": null,
      "outputs": []
    }
  ]
}